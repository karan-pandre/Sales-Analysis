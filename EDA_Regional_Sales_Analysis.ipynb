{
 "cells": [
  {
   "cell_type": "markdown",
   "metadata": {
    "id": "vzdeUDs99pIv"
   },
   "source": [
    "# **Project Name**    - USA Regional Sales Analysis"
   ]
  },
  {
   "cell_type": "markdown",
   "metadata": {
    "id": "C3OIIuNe9pCa"
   },
   "source": [
    "## 🗂️ **Project Summary**  \n"
   ]
  },
  {
   "cell_type": "markdown",
   "metadata": {
    "id": "rsaP5CvO9pFZ"
   },
   "source": [
    "This EDA notebook dives into the regional sales dataset (2014–2018 USA) through:\n",
    "\n",
    "Data Profiling & Cleaning: Verified schema, handled missing budgets, and corrected data types.\n",
    "\n",
    "Univariate & Bivariate Analysis: Explored distributions (revenue, margin, unit price), product/channel/region breakdowns, and customer segments.\n",
    "\n",
    "Trend & Seasonality: Charted monthly and yearly sales patterns, highlighting recurring surges and dips.\n",
    "\n",
    "Outlier Detection: Identified extreme transactions at both ends of the revenue and unit-price spectra.\n",
    "\n",
    "Correlation & Segmentation: Assessed relationships between key metrics and clustered customers by revenue vs. profit margin."
   ]
  },
  {
   "cell_type": "markdown",
   "metadata": {
    "id": "nbO5GECJAW8n"
   },
   "source": [
    "## ❓ **Problem Statement**  "
   ]
  },
  {
   "cell_type": "markdown",
   "metadata": {
    "id": "UugBVnheAKeY"
   },
   "source": [
    "Analyze the 2014–2018 USA regional sales data to identify key revenue and profit drivers across products, channels, and regions; uncover seasonal trends and outliers; and align performance against budgets. Use these insights to optimize pricing, promotions, and market expansion for sustainable growth and reduced concentration risk."
   ]
  },
  {
   "cell_type": "markdown",
   "metadata": {
    "id": "lJLxjQfYefC2"
   },
   "source": [
    "## 🎯 **Objective**"
   ]
  },
  {
   "cell_type": "markdown",
   "metadata": {
    "id": "EYe2_yCvetWs"
   },
   "source": [
    "Deliver actionable insights from the 2014–2018 regional sales data to:\n",
    "\n",
    "- Identify top-performing products, channels, and regions driving revenue and profit  \n",
    "- Uncover seasonal trends and anomalies for optimized planning  \n",
    "- Spot pricing and margin risks from outlier transactions  \n",
    "- Inform pricing, promotion, and market-expansion strategies  \n",
    "\n",
    "These findings will guide the design of a Power BI dashboard to support strategic decision-making and sustainable growth."
   ]
  },
  {
   "cell_type": "markdown",
   "metadata": {
    "id": "zX81JsXmAKg7"
   },
   "source": [
    "# **📥 Setup & Configuration**"
   ]
  },
  {
   "cell_type": "code",
   "execution_count": null,
   "metadata": {
    "id": "6DEayeRSuRFb"
   },
   "outputs": [],
   "source": [
    "# 📘 1. IMPORT LIBRARIES\n",
    "\n",
    "# Data handling\n",
    "import pandas as pd\n",
    "import numpy as np\n",
    "\n",
    "# Visualization\n",
    "import matplotlib.pyplot as plt\n",
    "import seaborn as sns\n",
    "\n",
    "# Configure notebook display\n",
    "%matplotlib inline\n",
    "sns.set_style(\"whitegrid\")    # clean seaborn style\n",
    "plt.rcParams['figure.figsize'] = (10, 6)   # default fig size"
   ]
  },
  {
   "cell_type": "markdown",
   "metadata": {
    "id": "hlDdH23WAKkD"
   },
   "source": [
    "# **🔄 Data Ingestion**"
   ]
  },
  {
   "cell_type": "code",
   "execution_count": null,
   "metadata": {
    "id": "l10f0vvguegn"
   },
   "outputs": [],
   "source": [
    "# 📂 2. LOAD DATA\n",
    "# Load local Excel workbook included in the repo\n",
    "file_path = 'Regional Sales Dataset.xlsx'\n",
    "\n",
    "# Read all sheets at once (adjust sheet names if your workbook differs)\n",
    "sheets = pd.read_excel(file_path, sheet_name=None)\n",
    "\n",
    "# Assign to named DataFrames (verify these sheet names match the workbook)\n",
    "df_sales       = sheets.get('Sales Orders') or sheets.get('Sales') or list(sheets.values())[0]\n",
    "df_customers   = sheets.get('Customers') or pd.DataFrame()\n",
    "df_products    = sheets.get('Products') or pd.DataFrame()\n",
    "df_regions     = sheets.get('Regions') or pd.DataFrame()\n",
    "df_state_reg   = sheets.get('State Regions') or pd.DataFrame()\n",
    "df_budgets     = sheets.get('2017 Budgets') or pd.DataFrame()"
   ]
  },
  {
   "cell_type": "markdown",
   "metadata": {
    "id": "QLPeZW8jA3fu"
   },
   "source": [
    "# **🔍 Data Profiling / Initial Inspection**"
   ]
  },
  {
   "cell_type": "code",
   "execution_count": null,
   "metadata": {
    "id": "GYRdXHJSFPXB"
   },
   "outputs": [],
   "source": [
    "# 🔍 2.1 QUICK SHAPE OVERVIEW\n",
    "print(f\"df_sales      shape: {df_sales.shape}      # Sales Orders\")\n",
    "print(f\"df_customers  shape: {df_customers.shape}  # Customers\")\n",
    "print(f\"df_products   shape: {df_products.shape}   # Products\")\n",
    "print(f\"df_regions    shape: {df_regions.shape}    # Regions\")\n",
    "print(f\"df_state_reg  shape: {df_state_reg.shape}  # State Regions\")\n",
    "print(f\"df_budgets    shape: {df_budgets.shape}    # 2017 Budgets\")"
   ]
  },
  {
   "cell_type": "code",
   "execution_count": null,
   "metadata": {
    "id": "1077phctwcrN"
   },
   "outputs": [],
   "source": [
    "# 🔍 3. DATA EXPLORATION / OVERVIEW\n",
    "\n",
    "# 3.1 Quick look\n",
    "\n",
    "df_sales.head()"
   ]
  },
  {
   "cell_type": "code",
   "execution_count": null,
   "metadata": {
    "id": "90UhIgK8fqFP"
   },
   "outputs": [],
   "source": [
    "# 🔍 2.x — QUICK VIEW OF ALL RAW DATAFRAMES\n",
    "# -----------------------------------------\n",
    "# Print first few rows for each sheet\n",
    "\n",
    "print(\"\\n— df_sales head —\")\n",
    "display(df_sales.head())\n",
    "print()\n",
    "\n",
    "print(\"\\n— df_customers head —\")\n",
    "display(df_customers.head())\n",
    "print()\n",
    "\n",
    "print(\"\\n— df_products head —\")\n",
    "display(df_products.head())\n",
    "print()\n",
    "\n",
    "print(\"\\n— df_regions head —\")\n",
    "display(df_regions.head())\n",
    "print()\n",
    "\n",
    "print(\"\\n— df_state_reg head —\")\n",
    "display(df_state_reg.head())\n",
    "print()\n",
    "\n",
    "print(\"\\n— df_budgets head —\")\n",
    "display(df_budgets.head())\n"
   ]
  },
  {
   "cell_type": "code",
   "execution_count": null,
   "metadata": {
    "id": "Mjw4QVhgENA4"
   },
   "outputs": [],
   "source": [
    "# The first row of df_state_reg contains the real column names.\n",
    "new_header        = df_state_reg.iloc[0]      # grab the first row\n",
    "df_state_reg.columns = new_header             # set columns\n",
    "df_state_reg       = df_state_reg[1:].reset_index(drop=True)  # drop header row and reset"
   ]
  },
  {
   "cell_type": "code",
   "execution_count": null,
   "metadata": {
    "id": "faUHPu_YF1W3"
   },
   "outputs": [],
   "source": [
    "df_sales.isnull().sum()"
   ]
  },
  {
   "cell_type": "code",
   "execution_count": null,
   "metadata": {
    "id": "2Vf5jiIQGMQ-"
   },
   "outputs": [],
   "source": [
    "# Checking duplicate values\n",
    "len(df_sales) == len(df_sales.drop_duplicates())"
   ]
  },
  {
   "cell_type": "markdown",
   "metadata": {
    "id": "UvYDZXyzBB78"
   },
   "source": [
    "# *🧹 Data Cleaning & Wrangling*"
   ]
  },
  {
   "cell_type": "code",
   "execution_count": null,
   "metadata": {
    "id": "EFxE89FV4WQ_"
   },
   "outputs": [],
   "source": [
    "# 🔧 4. DATA WRANGLING & MERGING\n",
    "\n",
    "# 4.1 Merge with Customers\n",
    "df = df_sales.merge(\n",
    "    df_customers,\n",
    "    how='left',\n",
    "    left_on='Customer Name Index',\n",
    "    right_on='Customer Index'\n",
    ")\n",
    "\n",
    "# 4.2 Merge with Products\n",
    "df = df.merge(\n",
    "    df_products,\n",
    "    how='left',\n",
    "    left_on='Product Description Index',\n",
    "    right_on='Index'\n",
    ")\n",
    "\n",
    "# 4.3 Merge with Regions\n",
    "df = df.merge(\n",
    "    df_regions,\n",
    "    how='left',\n",
    "    left_on='Delivery Region Index',\n",
    "    right_on='id'\n",
    ")\n",
    "\n",
    "# 4.4 Merge with State Regions\n",
    "df = df.merge(\n",
    "    df_state_reg[[\"State Code\",\"Region\"]],\n",
    "    how='left',\n",
    "    left_on='state_code',\n",
    "    right_on='State Code'\n",
    ")\n",
    "\n",
    "# 4.5 Merge with Budgets\n",
    "df = df.merge(\n",
    "    df_budgets,\n",
    "    how='left',\n",
    "    on='Product Name'\n",
    ")\n",
    "\n",
    "# 4.6 Clean up redundant columns\n",
    "cols_to_drop = [\n",
    "    'Customer Index', 'Index', 'id', 'State Code',\n",
    "    # add any auto-generated cols you don't need\n",
    "]\n",
    "df = df.drop(columns=cols_to_drop, errors='ignore')\n",
    "\n",
    "df.head()"
   ]
  },
  {
   "cell_type": "code",
   "execution_count": null,
   "metadata": {
    "id": "89u0VF36Xxeo"
   },
   "outputs": [],
   "source": [
    "# Convert all column names to lowercase for consistency and easier access\n",
    "df.columns = df.columns.str.lower()\n",
    "\n",
    "# Display the updated list of column names\n",
    "df.columns.values"
   ]
  },
  {
   "cell_type": "code",
   "execution_count": null,
   "metadata": {
    "id": "l_Xwfm1LlDvb"
   },
   "outputs": [],
   "source": [
    "# 4.x — DROP UNNECESSARY COLUMNS & RENAME FOR CLARITY (with Region)\n",
    "# ------------------------------------------------------------------\n",
    "\n",
    "# 1) List only the columns you want to KEEP, now including the broader 'region'\n",
    "cols_to_keep = [\n",
    "    'ordernumber',        # unique order ID\n",
    "    'orderdate',          # date when the order was placed\n",
    "    'customer names',     # customer who placed the order\n",
    "    'channel',            # sales channel (e.g., Wholesale, Distributor)\n",
    "    'product name',       # product purchased\n",
    "    'order quantity',     # number of units ordered\n",
    "    'unit price',         # price per unit\n",
    "    'line total',         # revenue for this line item (qty × unit_price)\n",
    "    'total unit cost',    # company’s cost for this line item\n",
    "    'state_code',         # two-letter state code\n",
    "    'state',              # full state name\n",
    "    'region',             # broader U.S. region (e.g., South, West)\n",
    "    'latitude',           # latitude of delivery city\n",
    "    'longitude',          # longitude of delivery city\n",
    "    '2017 budgets'        # budget target for this product in 2017\n",
    "]\n",
    "\n",
    "# Subset the DataFrame to only these columns\n",
    "df = df[cols_to_keep]\n",
    "\n",
    "# 2) Rename to more Pythonic / self-explanatory names, including region\n",
    "df = df.rename(columns={\n",
    "    'ordernumber'      : 'order_number',   # snake_case for consistency\n",
    "    'orderdate'        : 'order_date',     # date of the order\n",
    "    'customer names'   : 'customer_name',  # customer who placed it\n",
    "    'product name'     : 'product_name',   # product sold\n",
    "    'order quantity'   : 'quantity',       # units sold\n",
    "    'unit price'       : 'unit_price',     # price per unit in USD\n",
    "    'line total'       : 'revenue',        # revenue for the line item\n",
    "    'total unit cost'  : 'cost',           # cost for the line item\n",
    "    'state_code'       : 'state',          # two-letter state code\n",
    "    'state'            : 'state_name',     # full state name\n",
    "    'region'           : 'us_region',      # broader U.S. region\n",
    "    'latitude'         : 'lat',            # latitude (float)\n",
    "    'longitude'        : 'lon',            # longitude (float)\n",
    "    '2017 budgets'     : 'budget'          # 2017 budget target (float)\n",
    "})\n",
    "\n",
    "# Display the cleaned DataFrame structure\n",
    "df.head()"
   ]
  },
  {
   "cell_type": "code",
   "execution_count": null,
   "metadata": {
    "id": "V_gBwyAiwoNS"
   },
   "outputs": [],
   "source": [
    "# Blank out budgets for non-2017 orders\n",
    "df.loc[df['order_date'].dt.year != 2017, 'budget'] = pd.NA\n",
    "\n",
    "# Inspect\n",
    "df[['order_date','product_name','revenue','budget']].head(10)"
   ]
  },
  {
   "cell_type": "code",
   "execution_count": null,
   "metadata": {
    "id": "Dhk8WCNvFAGp"
   },
   "outputs": [],
   "source": [
    "df.info()"
   ]
  },
  {
   "cell_type": "code",
   "execution_count": null,
   "metadata": {
    "id": "HVWj4BqLw6OY"
   },
   "outputs": [],
   "source": [
    "# Check for missing values in each column of the dataset\n",
    "df.isnull().sum()"
   ]
  },
  {
   "cell_type": "markdown",
   "metadata": {
    "id": "UmPt69GoBbdf"
   },
   "source": [
    "# *🛠 Feature Engineering*"
   ]
  },
  {
   "cell_type": "code",
   "execution_count": null,
   "metadata": {
    "id": "qUTEmJqMn2lz"
   },
   "outputs": [],
   "source": [
    "# 1. Calculate total cost for each line item\n",
    "df['total_cost'] = df['quantity'] * df['cost']\n",
    "\n",
    "# 2. Calculate profit as revenue minus total_cost\n",
    "df['profit'] = df['revenue'] - df['total_cost']\n",
    "\n",
    "# 3. Calculate profit margin as a percentage\n",
    "df['profit_margin_pct'] = (df['profit'] / df['revenue']) * 100\n",
    "\n",
    "# 4. Extract full month name from order_date for labeling (e.g., 'January', 'February')\n",
    "df['order_month_name'] = df['order_date'].dt.month_name()\n",
    "\n",
    "# 5. Extract month number from order_date for correct sorting (1–12)\n",
    "df['order_month_num'] = df['order_date'].dt.month\n",
    "\n",
    "# 6. (Optional) Display the updated DataFrame\n",
    "df"
   ]
  },
  {
   "cell_type": "markdown",
   "metadata": {
    "id": "R-a-FZwvLgRG"
   },
   "source": [
    "# **📊 Exploratory Analysis**"
   ]
  },
  {
   "cell_type": "markdown",
   "metadata": {
    "id": "tjjhbX5-AKH5"
   },
   "source": [
    "## 🔹 1. *Monthly Sales Trend Over Time*\n",
    "\n",
    "Goal: Track revenue trends over time to detect seasonality or sales spikes\n",
    "\n",
    "Chart: Line chart\n",
    "\n",
    "EDA Type: Temporal (time series)\n",
    "\n",
    "Structure: Line with markers to highlight monthly revenue points clearly"
   ]
  },
  {
   "cell_type": "code",
   "execution_count": null,
   "metadata": {
    "id": "XM2bLQIW10ub"
   },
   "outputs": [],
   "source": [
    "# Convert order_date to monthly period (e.g., 2022-01, 2022-02)\n",
    "df['order_month'] = df['order_date'].dt.to_period('M')\n",
    "\n",
    "# Calculate total revenue for each month\n",
    "monthly_sales = df.groupby('order_month')['revenue'].sum()\n",
    "\n",
    "# Set figure size for clarity\n",
    "plt.figure(figsize=(15,4))\n",
    "\n",
    "# Plot the monthly sales trend with circle markers and navy line\n",
    "monthly_sales.plot(marker='o', color='navy')\n",
    "\n",
    "# Scale y-axis values to millions for readability\n",
    "from matplotlib.ticker import FuncFormatter\n",
    "formatter = FuncFormatter(lambda x, pos: f'{x/1e6:.1f}M')\n",
    "plt.gca().yaxis.set_major_formatter(formatter)\n",
    "\n",
    "# Add title and axis labels\n",
    "plt.title('Monthly Sales Trend')\n",
    "plt.xlabel('Month')\n",
    "plt.ylabel('Total Revenue (Millions)')\n",
    "\n",
    "# Rotate x-axis labels for better readability\n",
    "plt.xticks(rotation=45)\n",
    "\n",
    "# Adjust layout to prevent clipping\n",
    "plt.tight_layout()\n",
    "plt.show()"
   ]
  },
  {
   "cell_type": "markdown",
   "metadata": {
    "id": "Bh-Xq4wRElDC"
   },
   "source": [
    "### INSIGHTS ---\n",
    "Sales consistently cycle between \\$24 M and \\$26 M, with clear peaks in late spring to early summer (May–June) and troughs each January.  \n",
    "\n",
    "The overall trend remains stable year over year, reflecting a reliable seasonal demand pattern.  \n",
    "\n",
    "However, the sharp revenue drop in early 2017 stands out as an outlier, warranting closer investigation into potential causes such as market disruptions or mistimed promotions.  "
   ]
  },
  {
   "cell_type": "markdown",
   "metadata": {
    "id": "vZStXPgBEmcQ"
   },
   "source": [
    "## 🔹 2. *Monthly Sales Trend (All Years Combined)*\n",
    "\n",
    "Goal: Highlight overall seasonality patterns by aggregating sales across all years for each calendar month\n",
    "\n",
    "Chart: Line chart\n",
    "\n",
    "EDA Type: Temporal (time series)\n",
    "\n",
    "Structure: Line with markers, months ordered January to December based on month number"
   ]
  },
  {
   "cell_type": "code",
   "execution_count": null,
   "metadata": {
    "id": "cfNl9kpWGVdO"
   },
   "outputs": [],
   "source": [
    "# 1. Filter out any 2018 orders\n",
    "df_ = df[df['order_date'].dt.year != 2018]   # exclude any partial-year data (i.e., January and February of 2018) so that the monthly totals aren’t skewed by an incomplete year.\n",
    "                                            #I create df_ so I don’t alter the original df, preserving it intact for other analyses while filtering just for this chart.\n",
    "\n",
    "\n",
    "# 2. Group by month number and month name, sum revenue, then sort by month number\n",
    "monthly_sales = (\n",
    "    df_\n",
    "    .groupby(['order_month_num', 'order_month_name'])['revenue']\n",
    "    .sum()\n",
    "    .sort_index()\n",
    ")\n",
    "\n",
    "# 3. Plot setup\n",
    "from matplotlib.ticker import FuncFormatter\n",
    "\n",
    "plt.figure(figsize=(13, 4))\n",
    "plt.plot(\n",
    "    monthly_sales.index.get_level_values(1),  # X-axis: month names\n",
    "    monthly_sales.values,                     # Y-axis: total revenue\n",
    "    marker='o',                                # circle markers\n",
    "    color='navy'                               # line color\n",
    ")\n",
    "\n",
    "# 4. Scale y-axis values to millions for readability\n",
    "formatter = FuncFormatter(lambda x, pos: f'{x/1e6:.1f}M')\n",
    "plt.gca().yaxis.set_major_formatter(formatter)\n",
    "\n",
    "# 5. Add title and axis labels\n",
    "plt.title('Overall Monthly Sales Trend (Excluding 2018)')\n",
    "plt.xlabel('Month')\n",
    "plt.ylabel('Total Revenue (Millions)')\n",
    "\n",
    "# 6. Rotate x-axis labels for readability\n",
    "plt.xticks(rotation=45)\n",
    "\n",
    "# 7. Adjust layout to prevent clipping\n",
    "plt.tight_layout()\n",
    "\n",
    "# 8. Display the plot\n",
    "plt.show()\n"
   ]
  },
  {
   "cell_type": "markdown",
   "metadata": {
    "id": "C0MuQ4fDFj2k"
   },
   "source": [
    "### INSIGHTS ---\n",
    "\n",
    "Across all years, January begins strong with roughly \\$99 M, followed by a steep decline through April’s low point (≈\\$95 M).\n",
    "\n",
    "Sales rebound in May and August (≈\\$102 M) before settling into a plateau of \\$99–101 M from September to December.\n",
    "\n",
    "This pattern reveals a strong post–New Year surge, a spring dip, and a mid–summer bump each calendar year.\n"
   ]
  },
  {
   "cell_type": "markdown",
   "metadata": {
    "id": "wCw5lkZXFj6G"
   },
   "source": [
    "## 🔹 3. *Top 10 Products by Revenue (in Millions)*\n",
    "\n",
    "Goal: Identify the highest-grossing products to focus marketing and inventory efforts\n",
    "\n",
    "Chart: Horizontal bar chart\n",
    "\n",
    "EDA Type: Univariate\n",
    "\n",
    "Structure: Bars sorted descending to show top 10 products with revenue scaled in millions"
   ]
  },
  {
   "cell_type": "code",
   "execution_count": null,
   "metadata": {
    "id": "6xassoiEpfpH"
   },
   "outputs": [],
   "source": [
    "# Calculate total revenue for each product and convert values to millions\n",
    "top_prod = df.groupby('product_name')['revenue'].sum() / 1_000_000\n",
    "\n",
    "# Select the top 10 products by revenue\n",
    "top_prod = top_prod.nlargest(10)\n",
    "\n",
    "# Set the figure size for clarity\n",
    "plt.figure(figsize=(9, 4))\n",
    "\n",
    "# Plot a horizontal bar chart: x-axis as revenue in millions, y-axis as product names\n",
    "sns.barplot(\n",
    "    x=top_prod.values,    # X-axis: revenue values in millions\n",
    "    y=top_prod.index,     # Y-axis: product names\n",
    "    palette='viridis'     # Color palette for bars\n",
    ")\n",
    "\n",
    "# Add title and axis labels\n",
    "plt.title('Top 10 Products by Revenue (in Millions)')  # Main title\n",
    "plt.xlabel('Total Revenue (in Millions)')              # X-axis label\n",
    "plt.ylabel('Product Name')                             # Y-axis label\n",
    "\n",
    "# Adjust layout to prevent overlapping elements\n",
    "plt.tight_layout()\n",
    "\n",
    "# Display the plot\n",
    "plt.show()"
   ]
  },
  {
   "cell_type": "markdown",
   "metadata": {
    "id": "IrGkika5F-yG"
   },
   "source": [
    "### INSIGHTS ---\n",
    "Products 26 and 25 pull away at \\$118 M and \\$110 M, with a sharp drop to \\$78 M for Product 13 and a tight mid-pack at \\$68–\\$75 M.  \n",
    "\n",
    "The bottom four cluster at \\$52–\\$57 M, highlighting similar constraints.  \n",
    "\n",
    "Focus on growth pilots for the mid-tier and efficiency gains for the lower earners to drive significant lifts.  "
   ]
  },
  {
   "cell_type": "markdown",
   "metadata": {
    "id": "9VWBI1jMF--5"
   },
   "source": [
    "## 🔹 4. *Top 10 Products by Avg Profit Margin*\n",
    "\n",
    "Goal: Compare average profitability across products to identify high-margin items\n",
    "\n",
    "Chart: Horizontal bar chart\n",
    "\n",
    "EDA Type: Univariate\n",
    "\n",
    "Structure: Bars sorted descending to show top 10 products with average profit margin values"
   ]
  },
  {
   "cell_type": "code",
   "execution_count": null,
   "metadata": {
    "id": "laYXsy579Rhg"
   },
   "outputs": [],
   "source": [
    "# 1️⃣ Compute average profit per product and take the top 10\n",
    "top_margin = (\n",
    "    df.groupby('product_name')['profit']\n",
    "      .mean()                        # Calculate mean profit for each product\n",
    "      .sort_values(ascending=False)  # Sort from highest to lowest average profit\n",
    "      .head(10)                      # Keep only the top 10 products\n",
    ")\n",
    "\n",
    "# 2️⃣ Set the figure size for clarity\n",
    "plt.figure(figsize=(9, 4))\n",
    "\n",
    "# 3️⃣ Plot a horizontal bar chart\n",
    "sns.barplot(\n",
    "    x=top_margin.values,    # X-axis: average profit values\n",
    "    y=top_margin.index,     # Y-axis: product names\n",
    "    palette='viridis'       # Color palette for the bars\n",
    ")\n",
    "\n",
    "# 4️⃣ Add title and axis labels\n",
    "plt.title('Top 10 Products by Avg Profit Margin')  # Chart title\n",
    "plt.xlabel('Average Profit Margin (USD)')          # X-axis label\n",
    "plt.ylabel('Product Name')                         # Y-axis label\n",
    "\n",
    "# 5️⃣ Adjust layout to prevent clipping and show the plot\n",
    "plt.tight_layout()\n",
    "plt.show()"
   ]
  },
  {
   "cell_type": "markdown",
   "metadata": {
    "id": "ZphA2f5TGZ3M"
   },
   "source": [
    "### INSIGHTS ---\n",
    "\n",
    "Products 18 and 28 lead with average profit margins of approximately \\$8.0–8.3 K, followed closely by Product 5 and Product 11 around \\$7.9–8.0 K.\n",
    "\n",
    "Mid-tier performers like Products 12, 26, and 21 cluster in the \\$7.7–7.8 K range, while the bottom tier (Products 4, 16, and 1) fall between \\$7.4–7.6 K.\n",
    "\n",
    "Focusing on margin optimization strategies from top performers may help elevate overall product profitability.\n"
   ]
  },
  {
   "cell_type": "markdown",
   "metadata": {
    "id": "Je5JOr0rGZ69"
   },
   "source": [
    "## 🔹 5. *Sales by Channel (Pie Chart)*\n",
    "\n",
    "Goal: Show distribution of total sales across channels to identify dominant sales routes\n",
    "\n",
    "Chart: Pie chart\n",
    "\n",
    "EDA Type: Univariate\n",
    "\n",
    "Structure: Pie segments with percentage labels, colors for clarity, start angle adjusted"
   ]
  },
  {
   "cell_type": "code",
   "execution_count": null,
   "metadata": {
    "id": "l0VZEJ3XtCha"
   },
   "outputs": [],
   "source": [
    "# Group revenue by sales channel and sort descending\n",
    "chan_sales = df.groupby('channel')['revenue'].sum().sort_values(ascending=False)\n",
    "\n",
    "# Set figure size for the pie chart\n",
    "plt.figure(figsize=(5, 5))\n",
    "\n",
    "# Plot pie chart with percentage labels and a defined start angle\n",
    "plt.pie(\n",
    "    chan_sales.values,                   # Data: revenue values per channel\n",
    "    labels=chan_sales.index,             # Labels: channel names\n",
    "    autopct='%1.1f%%',                   # Display percentages with one decimal\n",
    "    startangle=140,                      # Rotate chart so first slice starts at 140 degrees\n",
    "    colors=sns.color_palette('coolwarm') # Color palette for slices\n",
    ")\n",
    "\n",
    "# Add title for context\n",
    "plt.title('Total Sales by Channel')\n",
    "\n",
    "# Adjust layout to ensure everything fits well\n",
    "plt.tight_layout()\n",
    "\n",
    "# Display the chart\n",
    "plt.show()"
   ]
  },
  {
   "cell_type": "markdown",
   "metadata": {
    "id": "SJupod_UGw6X"
   },
   "source": [
    "### INSIGHTS ---\n",
    "Wholesale accounts for 54 % of sales, with distributors at ~31 % and exports at ~15 %, underscoring reliance on domestic bulk channels.  \n",
    "\n",
    "To diversify revenue and mitigate concentration risk, prioritize expanding export initiatives—through targeted overseas marketing and strategic partner relationships.  \n"
   ]
  },
  {
   "cell_type": "markdown",
   "metadata": {
    "id": "i9ZlnsdZGxFp"
   },
   "source": [
    "## 🔹 6. *Average Order Value (AOV) Distribution*\n",
    "\n",
    "Goal: Understand distribution of order values to identify typical spending levels and outliers\n",
    "\n",
    "Chart: Histogram\n",
    "\n",
    "EDA Type: Univariate\n",
    "\n",
    "Structure: Histogram with 50 bins, colored bars with edge highlights to show frequency of order values"
   ]
  },
  {
   "cell_type": "code",
   "execution_count": null,
   "metadata": {
    "id": "hP5d9VTdqc9L"
   },
   "outputs": [],
   "source": [
    "# Calculate the total revenue for each order to get the order value\n",
    "aov = df.groupby('order_number')['revenue'].sum()\n",
    "\n",
    "# Set the figure size for better visibility\n",
    "plt.figure(figsize=(12, 4))\n",
    "\n",
    "# Plot a histogram of order values\n",
    "plt.hist(\n",
    "    aov,               # Data: list of order values\n",
    "    bins=50,           # Number of bins to group order values\n",
    "    color='skyblue',   # Fill color of the bars\n",
    "    edgecolor='black'  # Outline color of the bars\n",
    ")\n",
    "\n",
    "# Add title and axis labels for context\n",
    "plt.title('Distribution of Average Order Value')\n",
    "plt.xlabel('Order Value (USD)')\n",
    "plt.ylabel('Number of Orders')\n",
    "\n",
    "# Adjust layout to prevent clipping\n",
    "plt.tight_layout()\n",
    "\n",
    "# Show the plot\n",
    "plt.show()"
   ]
  },
  {
   "cell_type": "markdown",
   "metadata": {
    "id": "XHR5WwQBG58e"
   },
   "source": [
    "### INSIGHTS ---\n",
    "The order‐value distribution is heavily right‐skewed, with most orders clustering between \\$20 K and \\$120 K and a pronounced mode around \\$50 K–\\$60 K.  \n",
    "\n",
    "A long tail of high-value transactions extends up toward \\$400 K–\\$500 K, but these large orders represent only a small share of total volume.  \n"
   ]
  },
  {
   "cell_type": "markdown",
   "metadata": {
    "id": "FChWTe_hG6AL"
   },
   "source": [
    "## 🔹 7. *Profit Margin % vs. Unit Price*\n",
    "\n",
    "Goal: Examine relationship between unit price and profit margin percentage across orders\n",
    "\n",
    "Chart: Scatter plot\n",
    "\n",
    "EDA Type: Bivariate\n",
    "\n",
    "Structure: Scatter points with transparency to show data density"
   ]
  },
  {
   "cell_type": "code",
   "execution_count": null,
   "metadata": {
    "id": "PIXqStbJ1RzI"
   },
   "outputs": [],
   "source": [
    "# Calculate profit margin percentage for each record\n",
    "df['profit_margin_pct'] = (df['profit'] / df['revenue']) * 100\n",
    "\n",
    "# Set the figure size for clarity\n",
    "plt.figure(figsize=(6,4))\n",
    "\n",
    "# Plot unit price vs. profit margin percentage\n",
    "plt.scatter(\n",
    "    df['unit_price'],            # X-axis: unit price in USD\n",
    "    df['profit_margin_pct'],     # Y-axis: profit margin percentage\n",
    "    alpha=0.6,                   # Transparency level for overlapping points\n",
    "    color='green'                # Point color\n",
    ")\n",
    "\n",
    "# Add title and axis labels\n",
    "plt.title('Profit Margin % vs. Unit Price')  # Chart title\n",
    "plt.xlabel('Unit Price (USD)')                # X-axis label\n",
    "plt.ylabel('Profit Margin (%)')               # Y-axis label\n",
    "\n",
    "# Adjust layout to prevent clipping\n",
    "plt.tight_layout()\n",
    "\n",
    "# Display the plot\n",
    "plt.show()"
   ]
  },
  {
   "cell_type": "markdown",
   "metadata": {
    "id": "qq3vCr7nHNc3"
   },
   "source": [
    "### INSIGHTS ---\n",
    "\n",
    "Profit margins are concentrated between ~18% and 60%, with no clear correlation to unit price, which spans from near \\$0 to over \\$6,500.\n",
    "\n",
    "Dense horizontal bands indicate consistent margin tiers across a wide price spectrum, reflecting uniform pricing strategies.\n",
    "\n",
    "Outliers below 18% at both low and high price points may signal cost inefficiencies or pricing issues worth deeper investigation.\n"
   ]
  },
  {
   "cell_type": "markdown",
   "metadata": {
    "id": "0R8ce2EnHNhD"
   },
   "source": [
    "## 🔹 8. *Unit Price Distribution per Product*\n",
    "\n",
    "Goal: Compare pricing variability across different products to identify price consistency and outliers\n",
    "\n",
    "Chart: Boxplot\n",
    "\n",
    "EDA Type: Bivariate\n",
    "\n",
    "Structure: Boxplot with rotated labels to display unit price spread per product"
   ]
  },
  {
   "cell_type": "code",
   "execution_count": null,
   "metadata": {
    "id": "L0Cs4OJ_1eUX"
   },
   "outputs": [],
   "source": [
    "# Set figure size for clarity\n",
    "plt.figure(figsize=(12,4))\n",
    "\n",
    "# Create a boxplot of unit_price by product_name\n",
    "sns.boxplot(\n",
    "    data=df,\n",
    "    x='product_name',   # X-axis: product categories\n",
    "    y='unit_price',      # Y-axis: unit price values\n",
    "    color='g'            # Box color\n",
    ")\n",
    "\n",
    "# Add title and axis labels\n",
    "plt.title('Unit Price Distribution per Product')  # Chart title\n",
    "plt.xlabel('Product')                              # X-axis label\n",
    "plt.ylabel('Unit Price (USD)')                     # Y-axis label\n",
    "\n",
    "# Rotate x-axis labels for better readability\n",
    "plt.xticks(rotation=45, ha='right')\n",
    "\n",
    "# Adjust layout to prevent clipping of labels\n",
    "plt.tight_layout()\n",
    "\n",
    "# Display the plot\n",
    "plt.show()"
   ]
  },
  {
   "cell_type": "markdown",
   "metadata": {
    "id": "Aj4RMs6kT3x5"
   },
   "source": [
    "### INSIGHTS ---\n",
    "Products 8, 17, 27, 20, and 28 show high-end revenue spikes—well above their upper whiskers—likely due to bulk orders, special-edition releases, or premium bundles that temporarily inflate earnings.  \n",
    "\n",
    "In contrast, deep low-end outliers (near \\$0–\\$100) on Products 20 and 27 suggest promotional giveaways or test SKUs that pull down average prices.  \n",
    "\n",
    "To ensure accurate margin and pricing assessments, exclude these outlier transactions from average calculations.  \n",
    "\n",
    "Then assess whether such anomalies warrant formalization as ongoing promotional strategies or should be phased out to stabilize pricing performance.\n"
   ]
  },
  {
   "cell_type": "markdown",
   "metadata": {
    "id": "uDYlVVwekRqN"
   },
   "source": [
    "## 🔹 9. *Total Sales by US Region*\n",
    "\n",
    "**Goal:** Compare total sales across U.S. regions to identify top‑performing markets and areas for targeted growth.\n",
    "\n",
    "**Chart:** Horizontal bar chart\n",
    "\n",
    "**EDA Type:** Univariate comparison\n",
    "\n",
    "**Structure:**  \n",
    "- Bars sorted ascending (Northeast → West) for clear bottom‑to‑top ranking  \n",
    "- X‑axis in millions USD, Y‑axis listing regions  \n"
   ]
  },
  {
   "cell_type": "code",
   "execution_count": null,
   "metadata": {
    "id": "dWDdf3JMhRg8"
   },
   "outputs": [],
   "source": [
    "import matplotlib.pyplot as plt\n",
    "import seaborn as sns\n",
    "\n",
    "# 1. Aggregate total sales by region (in millions)\n",
    "region_sales = (\n",
    "    df\n",
    "    .groupby('us_region')['revenue']\n",
    "    .sum()\n",
    "    .sort_values(ascending=False)  # so bars go top→bottom\n",
    "    / 1e6                         # convert to millions\n",
    ")\n",
    "\n",
    "# 2. Plot\n",
    "plt.figure(figsize=(10, 4))\n",
    "sns.barplot(\n",
    "    x=region_sales.values,\n",
    "    y=region_sales.index,\n",
    "    palette='Greens_r'          # dark→light green\n",
    ")\n",
    "\n",
    "# 3. Formatting\n",
    "plt.title('Total Sales by US Region', fontsize=16, pad=12)\n",
    "plt.xlabel('Total Sales (in Millions USD)', fontsize=12)\n",
    "plt.ylabel('US Region', fontsize=12)\n",
    "plt.xticks(rotation=0)\n",
    "sns.despine(left=True, bottom=True)\n",
    "\n",
    "plt.tight_layout()\n",
    "plt.show()\n"
   ]
  },
  {
   "cell_type": "markdown",
   "metadata": {
    "id": "Sdp7OStUlgca"
   },
   "source": [
    "### INSIGHTS —  \n",
    "- **West dominates** with roughly \\$360 M in sales (~35 % of total), underscoring its market leadership.  \n",
    "- **South & Midwest** each contribute over \\$320 M (~32 %), indicating strong, consistent demand across central regions.  \n",
    "- **Northeast trails** at about \\$210 M (~20 %), signaling room for growth and targeted investment.  \n",
    "- **Action:** Focus on closing the Northeast gap with local promotions and strategic partnerships, while maintaining national playbook success.  \n"
   ]
  },
  {
   "cell_type": "markdown",
   "metadata": {
    "id": "HXV2ArpxHw93"
   },
   "source": [
    "### INSIGHTS ---\n",
    "California leads by a wide margin, generating about \\$230 M in revenue and 7500 orders—more than twice the next-highest state.  \n",
    "\n",
    "Illinois, Florida, and Texas form a solid second tier, each posting \\$85–110 M in revenue with 3 600–4 600 orders.  \n",
    "\n",
    "New York and Indiana are mid-pack (≈\\$54–55 M, ~2 500 orders), while Connecticut, Michigan, and Massachusetts trail at \\$35–44 M with 1 600–2 100 orders.  \n",
    "\n",
    "The close alignment between revenue and order counts suggests similar average order values across states; to drive growth, focus on increasing order volume in the mid-tier and raising order size in lower-performing regions.  "
   ]
  },
  {
   "cell_type": "markdown",
   "metadata": {
    "id": "IIYOgZCikwnH"
   },
   "source": [
    "## 🔹 10. *Total Sales by State (Choropleth Map)*\n",
    "\n",
    "**Goal:** Visualize geographic distribution of sales to identify high- and low-performing states and uncover regional gaps.\n",
    "\n",
    "**Chart:** US choropleth map\n",
    "\n",
    "**EDA Type:** Univariate geospatial\n",
    "\n",
    "**Structure:**  \n",
    "- States shaded by total sales (in millions USD) using a blue gradient  \n",
    "- Legend on the right showing sales scale (M USD)  \n",
    "- Hover tooltips display exact sales for each state  \n",
    "- Map scoped to USA for clear regional context  \n"
   ]
  },
  {
   "cell_type": "code",
   "execution_count": null,
   "metadata": {
    "id": "tY9gR0w5hrSz"
   },
   "outputs": [],
   "source": [
    "import plotly.express as px\n",
    "\n",
    "# 1. Aggregate revenue by state (in millions)\n",
    "state_sales = (\n",
    "    df\n",
    "    .groupby('state')['revenue']\n",
    "    .sum()\n",
    "    .reset_index()\n",
    ")\n",
    "state_sales['revenue_m'] = state_sales['revenue'] / 1e6  # convert to millions\n",
    "\n",
    "# 2. Plotly choropleth\n",
    "fig = px.choropleth(\n",
    "    state_sales,\n",
    "    locations='state',            # column with state codes\n",
    "    locationmode='USA-states',    # tells Plotly these are US states\n",
    "    color='revenue_m',\n",
    "    scope='usa',\n",
    "    labels={'revenue_m':'Total Sales (M USD)'},\n",
    "    color_continuous_scale='Blues',\n",
    "    hover_data={'revenue_m':':.2f'}  # show 2 decimals\n",
    ")\n",
    "\n",
    "# 3. Layout tuning\n",
    "fig.update_layout(\n",
    "    title_text='Total Sales by State',\n",
    "    margin=dict(l=0, r=0, t=40, b=0),\n",
    "    coloraxis_colorbar=dict(\n",
    "        title='Sales (M USD)',\n",
    "        ticksuffix='M'\n",
    "    )\n",
    ")\n",
    "\n",
    "fig.show()\n"
   ]
  },
  {
   "cell_type": "markdown",
   "metadata": {
    "id": "dZdN3BxZlahQ"
   },
   "source": [
    "### INSIGHTS —  \n",
    "- **California leads** with \\$230 M, followed by Illinois (\\$112 M) and Florida (\\$90 M), forming a dominant top‑tier (> \\$90 M).  \n",
    "- **Mid‑tier states** (e.g., Texas \\$85 M, New York \\$55 M) hold steady performance but trail the top three by 40–145 M.  \n",
    "- **Lower‑tier states** (e.g., New Jersey \\$47 M down to Massachusetts \\$35 M) reveal a gradual drop, indicating uneven market penetration.  \n",
    "- **Action:** Double down on top states with tailored promotions, and launch targeted growth initiatives in under‑penetrated regions to close the gap.  \n"
   ]
  },
  {
   "cell_type": "markdown",
   "metadata": {
    "id": "xFcKu2I2HbAp"
   },
   "source": [
    "## 🔹 11. *Top 10 States by Revenue and Order Count*\n",
    "\n",
    "Goal: Identify highest revenue-generating states and compare their order volumes\n",
    "\n",
    "Chart: Two bar charts\n",
    "\n",
    "EDA Type: Multivariate\n",
    "\n",
    "Structure: First chart shows top 10 states by revenue (in millions), second shows top 10 states by number of orders"
   ]
  },
  {
   "cell_type": "code",
   "execution_count": null,
   "metadata": {
    "id": "TzJtPu8K-AMF"
   },
   "outputs": [],
   "source": [
    "# 🔝 Calculate total revenue per customer and select top 10\n",
    "top_rev = (\n",
    "    df.groupby('customer_name')['revenue']\n",
    "      .sum()                        # Sum revenue for each customer\n",
    "      .sort_values(ascending=False) # Sort from highest to lowest\n",
    "      .head(10)                     # Keep top 10 customers\n",
    ")\n",
    "\n",
    "# 🔻 Calculate total revenue per customer and select bottom 10\n",
    "bottom_rev = (\n",
    "    df.groupby('customer_name')['revenue']\n",
    "      .sum()                        # Sum revenue for each customer\n",
    "      .sort_values(ascending=True)  # Sort from lowest to highest\n",
    "      .head(10)                     # Keep bottom 10 customers\n",
    ")\n",
    "\n",
    "# Create a figure with two side-by-side subplots\n",
    "fig, axes = plt.subplots(1, 2, figsize=(16, 5))\n",
    "\n",
    "# Plot 1: Top 10 customers by revenue (converted to millions)\n",
    "sns.barplot(\n",
    "    x=top_rev.values / 1e6,    # X-axis: revenue in millions\n",
    "    y=top_rev.index,           # Y-axis: customer names\n",
    "    palette='Blues_r',         # Color palette (reversed blues)\n",
    "    ax=axes[0]                 # Draw on the left subplot\n",
    ")\n",
    "axes[0].set_title('Top 10 Customers by Revenue', fontsize=14)         # Title\n",
    "axes[0].set_xlabel('Revenue (Million USD)', fontsize=12)              # X-axis label\n",
    "axes[0].set_ylabel('Customer Name', fontsize=12)                      # Y-axis label\n",
    "\n",
    "# Plot 2: Bottom 10 customers by revenue (converted to millions)\n",
    "sns.barplot(\n",
    "    x=bottom_rev.values / 1e6, # X-axis: revenue in millions\n",
    "    y=bottom_rev.index,        # Y-axis: customer names\n",
    "    palette='Reds',            # Color palette (reds)\n",
    "    ax=axes[1]                 # Draw on the right subplot\n",
    ")\n",
    "axes[1].set_title('Bottom 10 Customers by Revenue', fontsize=14)      # Title\n",
    "axes[1].set_xlabel('Revenue (Million USD)', fontsize=12)              # X-axis label\n",
    "axes[1].set_ylabel('Customer Name', fontsize=12)                      # Y-axis label\n",
    "\n",
    "# Adjust layout to prevent overlap and display both charts\n",
    "plt.tight_layout()\n",
    "plt.show()"
   ]
  },
  {
   "cell_type": "markdown",
   "metadata": {
    "id": "lsOG6hCfIORJ"
   },
   "source": [
    "### INSIGHTS ---\n",
    "- Aibox Company tops the list with \\$12.5 M, followed closely by State Ltd (\\$12.2 M), while the 10th-ranked Deseret Group still contributes \\$9.9 M—demonstrating a tight \\$10–12 M top tier.\n",
    "\n",
    "- At the bottom, Johnson Ltd leads its group with \\$5.1 M, down to BB17 Company at \\$4.1 M—roughly half the top customer’s revenue.\n",
    "\n",
    "- This steep drop from ~\\$10 M+ to \\$4–5 M highlights high revenue concentration among the top customers.\n",
    "\n",
    "- Action: prioritize retention and upsell for your top ten, and launch targeted growth campaigns to elevate the lower-revenue cohort.\n"
   ]
  },
  {
   "cell_type": "markdown",
   "metadata": {
    "id": "r7XSUGcDHxBP"
   },
   "source": [
    "## 🔹 12. *Average Profit Margin by Channel*\n",
    "\n",
    "Goal: Compare average profit margins across sales channels to identify the most and least profitable routes\n",
    "\n",
    "Chart: Bar chart\n",
    "\n",
    "EDA Type: Bivariate\n",
    "\n",
    "Structure: Vertical bars with data labels showing margin percentages, sorted descending by channel"
   ]
  },
  {
   "cell_type": "code",
   "execution_count": null,
   "metadata": {
    "id": "KZIL-1-v2Hle"
   },
   "outputs": [],
   "source": [
    "# 1️⃣ Compute average profit margin percentage for each channel\n",
    "channel_margin = (\n",
    "    df.groupby('channel')['profit_margin_pct']  # Group by sales channel\n",
    "      .mean()                                  # Calculate mean profit margin %\n",
    "      .sort_values(ascending=False)            # Sort channels from highest to lowest margin\n",
    ")\n",
    "\n",
    "# 2️⃣ Set the figure size for clarity\n",
    "plt.figure(figsize=(6, 4))\n",
    "\n",
    "# 3️⃣ Plot a bar chart of average profit margin by channel\n",
    "ax = sns.barplot(\n",
    "    x=channel_margin.index,    # X-axis: channel names\n",
    "    y=channel_margin.values,   # Y-axis: average profit margin values\n",
    "    palette='coolwarm'         # Color palette for bars\n",
    ")\n",
    "\n",
    "# 4️⃣ Add chart title and axis labels\n",
    "plt.title('Average Profit Margin by Channel')  # Main title\n",
    "plt.xlabel('Sales Channel')                    # X-axis label\n",
    "plt.ylabel('Avg Profit Margin (%)')             # Y-axis label\n",
    "\n",
    "# 5️⃣ Annotate each bar with its exact margin percentage\n",
    "for i, v in enumerate(channel_margin.values):\n",
    "    ax.text(\n",
    "        i,                  # X position (bar index)\n",
    "        v + 0.5,            # Y position (bar height + small offset)\n",
    "        f\"{v:.2f}%\",        # Text label showing percentage with two decimals\n",
    "        ha='center',        # Center-align the text horizontally\n",
    "        fontweight='bold'   # Bold font for readability\n",
    "    )\n",
    "\n",
    "# 6️⃣ Adjust layout to prevent clipping and display the plot\n",
    "plt.tight_layout()\n",
    "plt.show()"
   ]
  },
  {
   "cell_type": "markdown",
   "metadata": {
    "id": "yljaPPjUIBxN"
   },
   "source": [
    "### INSIGHTS ---\n",
    "Export leads with a 37.93 % average margin, closely followed by Distributor (37.56 %) and Wholesale (37.09 %).  \n",
    "\n",
    "The tiny spread (<0.2 %) shows consistently strong profitability across all channels.  \n",
    "\n",
    "This uniformity implies well-controlled costs and pricing power everywhere.  \n",
    "\n",
    "To maximize returns, push volume growth in Export while maintaining efficiency in Distributor and Wholesale.  "
   ]
  },
  {
   "cell_type": "markdown",
   "metadata": {
    "id": "nOhdF5HvIB08"
   },
   "source": [
    "## 🔹 13. *Top and Bottom 10 Customers by Revenue*\n",
    "\n",
    "Goal: Identify your highest- and lowest-revenue customers to tailor engagement strategies\n",
    "\n",
    "Chart: Side-by-side horizontal bar charts\n",
    "\n",
    "EDA Type: Multivariate\n",
    "\n",
    "Structure: Left chart shows top 10 customers by revenue (in millions), right chart shows bottom 10 customers by revenue (in millions)"
   ]
  },
  {
   "cell_type": "code",
   "execution_count": null,
   "metadata": {
    "id": "GNn0KjGo1td9"
   },
   "outputs": [],
   "source": [
    "# Aggregate total revenue and unique order count per state\n",
    "state_rev = df.groupby('state_name').agg(\n",
    "    revenue=('revenue', 'sum'),          # Sum up revenue per state\n",
    "    orders=('order_number', 'nunique')   # Count unique orders per state\n",
    ").sort_values('revenue', ascending=False).head(10)  # Keep top 10 by revenue\n",
    "\n",
    "# Plot 1: Top 10 states by revenue (scaled to millions)\n",
    "plt.figure(figsize=(15, 4))\n",
    "sns.barplot(\n",
    "    x=state_rev.index,                   # X-axis: state names\n",
    "    y=state_rev['revenue'] / 1e6,        # Y-axis: revenue in millions\n",
    "    palette='coolwarm'                   # Color palette\n",
    ")\n",
    "plt.title('Top 10 States by Revenue')     # Chart title\n",
    "plt.xlabel('State')                       # X-axis label\n",
    "plt.ylabel('Total Revenue (Million USD)') # Y-axis label\n",
    "plt.tight_layout()                        # Adjust layout\n",
    "plt.show()                                # Display the plot\n",
    "\n",
    "# Plot 2: Top 10 states by number of orders\n",
    "plt.figure(figsize=(15, 4))\n",
    "sns.barplot(\n",
    "    x=state_rev.index,                   # X-axis: state names\n",
    "    y=state_rev['orders'],               # Y-axis: order counts\n",
    "    palette='coolwarm'                   # Color palette\n",
    ")\n",
    "plt.title('Top 10 States by Number of Orders')  # Chart title\n",
    "plt.xlabel('State')                              # X-axis label\n",
    "plt.ylabel('Order Count')                        # Y-axis label\n",
    "plt.tight_layout()                               # Adjust layout\n",
    "plt.show()                                       # Display the plot"
   ]
  },
  {
   "cell_type": "markdown",
   "metadata": {
    "id": "rOasdrw4IOUp"
   },
   "source": [
    "## 🔹 14. *Customer Segmentation: Revenue vs. Profit Margin*\n",
    "\n",
    "Goal: Segment customers by total revenue and average profit margin, highlighting order volume\n",
    "\n",
    "Chart: Bubble chart (scatter plot with variable point sizes)\n",
    "\n",
    "EDA Type: Multivariate\n",
    "\n",
    "Structure: Scatter points sized by number of orders, plotting revenue vs. margin"
   ]
  },
  {
   "cell_type": "code",
   "execution_count": null,
   "metadata": {
    "id": "DdXdnlts5jWm"
   },
   "outputs": [],
   "source": [
    "# Aggregate metrics per customer\n",
    "cust_summary = df.groupby('customer_name').agg(\n",
    "    total_revenue=('revenue', 'sum'),\n",
    "    total_profit=('profit', 'sum'),\n",
    "    avg_margin=('profit_margin_pct', 'mean'),\n",
    "    orders=('order_number', 'nunique')\n",
    ")\n",
    "\n",
    "# Convert revenue to millions\n",
    "cust_summary['total_revenue_m'] = cust_summary['total_revenue'] / 1e6\n",
    "\n",
    "plt.figure(figsize=(7, 5))\n",
    "\n",
    "# Bubble chart with revenue in millions\n",
    "sns.scatterplot(\n",
    "    data=cust_summary,\n",
    "    x='total_revenue_m',        # <-- use revenue in millions\n",
    "    y='avg_margin',\n",
    "    size='orders',\n",
    "    sizes=(20, 200),\n",
    "    alpha=0.7\n",
    ")\n",
    "\n",
    "plt.title('Customer Segmentation: Revenue vs. Profit Margin')\n",
    "plt.xlabel('Total Revenue (Million USD)')  # <-- updated label\n",
    "plt.ylabel('Avg Profit Margin (%)')\n",
    "\n",
    "plt.tight_layout()\n",
    "plt.show()\n"
   ]
  },
  {
   "cell_type": "markdown",
   "metadata": {
    "id": "DuQ0YIUaIafE"
   },
   "source": [
    "### INSIGHTS ---\n",
    "\n",
    "- Customers with >\\$10 M in revenue tend to sustain margins between 36–40%, indicating that scale does not significantly erode profitability.\n",
    "- Most customers cluster within the \\$6–10 M range and show stable margins (~34–40%), suggesting consistent pricing in this tier.\n",
    "- Customers below \\$6 M display the widest margin variance (~33–43%), pointing to more volatile cost structures or discounts among smaller accounts.\n",
    "- Bubble size (order count) increases with revenue, but margin levels appear unaffected—reinforcing revenue as the dominant performance driver over order volume.\n"
   ]
  },
  {
   "cell_type": "markdown",
   "metadata": {
    "id": "b9NHEygtIai0"
   },
   "source": [
    "## 🔹 15. *Correlation Heatmap of Numeric Features*\n",
    "\n",
    "Goal: Identify relationships among key numeric variables to uncover potential multicollinearity\n",
    "\n",
    "Chart: Correlation heatmap\n",
    "\n",
    "EDA Type: Multivariate\n",
    "\n",
    "Structure: Annotated heatmap with correlation coefficients for selected numeric columns"
   ]
  },
  {
   "cell_type": "code",
   "execution_count": null,
   "metadata": {
    "id": "bL83HVyOxRBy"
   },
   "outputs": [],
   "source": [
    "# List numeric columns to include in the correlation calculation\n",
    "num_cols = ['quantity', 'unit_price', 'revenue', 'cost', 'profit']\n",
    "\n",
    "# Calculate the correlation matrix for these numeric features\n",
    "corr = df[num_cols].corr()\n",
    "\n",
    "# Set the figure size for clarity\n",
    "plt.figure(figsize=(6,4))\n",
    "\n",
    "# Plot the heatmap with annotations and a viridis colormap\n",
    "sns.heatmap(\n",
    "    corr,           # Data: correlation matrix\n",
    "    annot=True,     # Display the correlation coefficients on the heatmap\n",
    "    fmt=\".2f\",      # Format numbers to two decimal places\n",
    "    cmap='viridis'  # Color palette for the heatmap\n",
    ")\n",
    "\n",
    "# Add title for context\n",
    "plt.title('Correlation Matrix')\n",
    "\n",
    "# Adjust layout to prevent clipping\n",
    "plt.tight_layout()\n",
    "\n",
    "# Display the heatmap\n",
    "plt.show()"
   ]
  },
  {
   "cell_type": "markdown",
   "metadata": {
    "id": "fZH_oaanXcYC"
   },
   "source": [
    "### INSIGHTS ---\n",
    "- **Profit and revenue** are very strongly correlated (0.87), indicating that as sales value increases, profit tends to rise as well.  \n",
    "- **Unit price** is a key driver: it correlates 0.91 with revenue, 0.79 with profit, and 0.94 with cost—highlighting how pricing decisions ripple through both top‑line and expense figures.  \n",
    "- **Cost** shows a strong link to revenue (0.85) but a more moderate tie to profit (0.58), underscoring that while higher sales often bring higher expenses, margins can still vary.  \n",
    "- **Quantity** has virtually no correlation with unit price or cost (≈0.00) and only modest associations with revenue (0.34) and profit (0.30), making volume a secondary factor compared to pricing.  \n"
   ]
  },
  {
   "cell_type": "markdown",
   "metadata": {
    "id": "KHlb3SQCfWOF"
   },
   "source": [
    "# **Saving Pre-Processed Dataframe**"
   ]
  },
  {
   "cell_type": "code",
   "execution_count": null,
   "metadata": {
    "id": "H_4E-fe7O8m1"
   },
   "outputs": [],
   "source": [
    "df"
   ]
  },
  {
   "cell_type": "code",
   "execution_count": null,
   "metadata": {
    "id": "7Y1ROEvHnpgL"
   },
   "outputs": [],
   "source": [
    "# Export Final DataFrame to CSV\n",
    "df.to_csv('Sales_data(EDA Exported).csv', index=False)"
   ]
  },
  {
   "cell_type": "markdown",
   "metadata": {
    "id": "URai8ryJXccP"
   },
   "source": [
    "# 🔍 **Key Insights**  "
   ]
  },
  {
   "cell_type": "markdown",
   "metadata": {
    "id": "EjQi3wEGXcf5"
   },
   "source": [
    "\n",
    "\n",
    "- **Monthly Revenue Cycle:**  \n",
    "  Revenue stays stable between ≈\\$23M–\\$26.5M across 2014–2017, with no consistent seasonal spikes. Sharpest drop (≈\\$21.2M) occurs in early 2017, indicating a possible one-time disruption.\n",
    "\n",
    "- **Channel Mix:**  \n",
    "  Wholesale: 54%. Distributors: 31%. Exports: 15% — opportunity to scale international presence.\n",
    "\n",
    "- **Top Products (Revenue):**  \n",
    "  Product 26: \\$118M; Product 25: \\$110M; Product 13: \\$78M. Mid-tier: \\$68–75M; bottom performers: \\$52–57M.\n",
    "\n",
    "- **Profit Margins:**  \n",
    "  Profit margins range broadly from ≈18% to ≈60%, with no strong correlation to unit price. Dense horizontal bands suggest standardized pricing strategies across tiers.\n",
    "\n",
    "- **Seasonal Volume:**  \n",
    "  No strong monthly pattern, but slight volume uptick appears around May–June. Early 2017 dip (≈\\$21.2M) may require investigation.\n",
    "\n",
    "- **Regional Performance:**  \n",
    "  California leads: ≈\\$230M Revenue & 7500+ orders. Illinois/Florida/Texas: ≈\\$85M–$110M & ≈3500–4500 orders. NY/Indiana: ≈\\$54M & 2000+ orders.\n",
    "\n"
   ]
  },
  {
   "cell_type": "markdown",
   "metadata": {
    "id": "40a59YldXcjc"
   },
   "source": [
    "# 💡 **Recommendations**  "
   ]
  },
  {
   "cell_type": "markdown",
   "metadata": {
    "id": "cu6LVLzLfDZ6"
   },
   "source": [
    "1. **Outlier Strategy:** Exclude or formalize bulk-order and promotional SKUs when calculating averages.  \n",
    "2. **Margin Uplift:** Apply top-product pricing levers to mid/low tiers; cut costs on underperformers.  \n",
    "3. **Export Growth:** Invest in targeted overseas marketing and distributor partnerships.  \n",
    "4. **Seasonal Planning:** Shift spend toward January trough and May–June peak; investigate the 2017 anomaly.  \n",
    "5. **Dashboard Prep:** Build aggregated tables for time series, channel mix, and product performance for Power BI.  "
   ]
  }
 ],
 "metadata": {
  "kernelspec": {
   "display_name": "Python 3",
   "name": "python3"
  },
  "language_info": {
   "name": "python"
  }
 },
 "nbformat": 4,
 "nbformat_minor": 0
}
